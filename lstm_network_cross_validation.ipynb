{
  "nbformat": 4,
  "nbformat_minor": 0,
  "metadata": {
    "colab": {
      "name": "lstm_network_cross_validation.ipynb",
      "provenance": [],
      "collapsed_sections": []
    },
    "kernelspec": {
      "name": "python3",
      "display_name": "Python 3"
    },
    "accelerator": "GPU"
  },
  "cells": [
    {
      "cell_type": "markdown",
      "metadata": {
        "id": "f_rN2sQMMmiR",
        "colab_type": "text"
      },
      "source": [
        "## This notebook is used just to perform the cross-validation"
      ]
    },
    {
      "cell_type": "code",
      "metadata": {
        "id": "0BDqnTRK24pP",
        "colab_type": "code",
        "colab": {}
      },
      "source": [
        "# This code has been written by Stefano Brilli, s249914@studenti.polito.it\n",
        "# Last update on Oct 11th\n",
        "# Please note that this code can be used just for running the training phase.\n",
        "# In the future here will be possible testing the model\n",
        "\n",
        "%tensorflow_version 1.x\n",
        "import tensorflow as tf\n",
        "import datetime, os\n",
        "from sklearn.metrics import confusion_matrix, classification_report\n",
        "import string\n",
        "import utils as utl\n",
        "import pandas as pd\n",
        "import matplotlib.pyplot as plt\n",
        "from collections import Counter\n",
        "import numpy as np\n",
        "from sklearn.model_selection import train_test_split, StratifiedKFold\n",
        "%matplotlib inline\n",
        "\n",
        "plt.style.use('dark_background')"
      ],
      "execution_count": 0,
      "outputs": []
    },
    {
      "cell_type": "code",
      "metadata": {
        "id": "dfADLwg_7Qa9",
        "colab_type": "code",
        "outputId": "fd7bdb9a-0bc9-42e2-8473-ea605885ffdf",
        "colab": {
          "base_uri": "https://localhost:8080/",
          "height": 34
        }
      },
      "source": [
        "from google.colab import drive\n",
        "drive.mount('/content/drive')"
      ],
      "execution_count": 2,
      "outputs": [
        {
          "output_type": "stream",
          "text": [
            "Drive already mounted at /content/drive; to attempt to forcibly remount, call drive.mount(\"/content/drive\", force_remount=True).\n"
          ],
          "name": "stdout"
        }
      ]
    },
    {
      "cell_type": "code",
      "metadata": {
        "id": "bXHvhjNtPgXf",
        "colab_type": "code",
        "colab": {}
      },
      "source": [
        "def print_train_infos(history, title):\n",
        "    \"\"\"\n",
        "    This method plots informations on losses for train and validation set during the training\n",
        "    :param history:\n",
        "    :return:\n",
        "    \"\"\"\n",
        "    plt.plot(history.history['loss'], label='train')\n",
        "    plt.plot(history.history['val_loss'], label='validation')\n",
        "    plt.legend()\n",
        "    plt.title(title)\n",
        "    plt.show()"
      ],
      "execution_count": 0,
      "outputs": []
    },
    {
      "cell_type": "code",
      "metadata": {
        "id": "rl7BOuJ4yR2F",
        "colab_type": "code",
        "colab": {}
      },
      "source": [
        "# Paths\n",
        "base_dir=\"./drive/My Drive/Colab Notebooks/Bioinformatics/Project/\"\n",
        "sub_dir = datetime.datetime.strftime(datetime.datetime.now(), '%Y%m%d-%H%M%S')\n",
        "results_dir = base_dir + 'results_cv/' + sub_dir\n",
        "training_set_path = base_dir + 'datasets/bio_translated_training.csv'\n",
        "parameters_path  = base_dir + 'datasets/parameters.json'\n",
        "\n",
        "# Load parameters from JSON file to Python dictionary\n",
        "params=utl.load_parameters(parameters_path)"
      ],
      "execution_count": 0,
      "outputs": []
    },
    {
      "cell_type": "code",
      "metadata": {
        "id": "YkZEag2yfzKt",
        "colab_type": "code",
        "colab": {}
      },
      "source": [
        "# Training set: first four proteins bins\n",
        "proteins, labels, vocab_to_int, int_to_vocab = utl.read_data(training_set_path)"
      ],
      "execution_count": 0,
      "outputs": []
    },
    {
      "cell_type": "code",
      "metadata": {
        "id": "BugsL8_EtfVb",
        "colab_type": "code",
        "outputId": "494790d7-f09a-4130-9d4d-06fd0384d125",
        "colab": {
          "base_uri": "https://localhost:8080/",
          "height": 421
        }
      },
      "source": [
        "# Training set's features distribution\n",
        "train_len = [len(x) for x in proteins]\n",
        "pd.Series(train_len).hist()\n",
        "plt.show()\n",
        "pd.Series(train_len).describe()"
      ],
      "execution_count": 6,
      "outputs": [
        {
          "output_type": "display_data",
          "data": {
            "image/png": "[encoded data removed]",
            "text/plain": [
              "<Figure size 432x288 with 1 Axes>"
            ]
          },
          "metadata": {
            "tags": []
          }
        },
        {
          "output_type": "execute_result",
          "data": {
            "text/plain": [
              "count    1856.000000\n",
              "mean     1245.498384\n",
              "std       849.439007\n",
              "min        60.000000\n",
              "25%       564.750000\n",
              "50%      1032.000000\n",
              "75%      1686.250000\n",
              "max      4981.000000\n",
              "dtype: float64"
            ]
          },
          "metadata": {
            "tags": []
          },
          "execution_count": 6
        }
      ]
    },
    {
      "cell_type": "markdown",
      "metadata": {
        "id": "TIduwFPrvAew",
        "colab_type": "text"
      },
      "source": [
        "As we can see, both the training and the testing sets have a mean size on samples of 1200/1300. So it could be a good idea to pad sequences shorter than 1275 and truncate sequences longer than 1275."
      ]
    },
    {
      "cell_type": "code",
      "metadata": {
        "id": "hFI5pjWywMe8",
        "colab_type": "code",
        "colab": {}
      },
      "source": [
        "proteins = utl.pad_features(proteins, 1000)"
      ],
      "execution_count": 0,
      "outputs": []
    },
    {
      "cell_type": "code",
      "metadata": {
        "id": "kAzr3Pwuwjce",
        "colab_type": "code",
        "outputId": "29dd8856-995b-4a92-d016-de6df2b74d3b",
        "colab": {
          "base_uri": "https://localhost:8080/",
          "height": 72
        }
      },
      "source": [
        "# Some statistics\n",
        "print(\"Vocabulary size: {}\".format(len(vocab_to_int)))\n",
        "print(vocab_to_int)"
      ],
      "execution_count": 8,
      "outputs": [
        {
          "output_type": "stream",
          "text": [
            "Vocabulary size: 22\n",
            "{'L': 1, 'S': 2, 'P': 3, 'G': 4, 'R': 5, 'A': 6, 'T': 7, 'Q': 8, 'V': 9, 'E': 10, 'K': 11, 'I': 12, 'F': 13, 'D': 14, 'N': 15, 'C': 16, 'H': 17, '*': 18, 'Y': 19, 'W': 20, 'M': 21, 'X': 22}\n"
          ],
          "name": "stdout"
        }
      ]
    },
    {
      "cell_type": "code",
      "metadata": {
        "id": "woZ4O775wshZ",
        "colab_type": "code",
        "outputId": "2fc95831-06cd-4909-a121-7713e6872d4c",
        "colab": {
          "base_uri": "https://localhost:8080/",
          "height": 69
        }
      },
      "source": [
        "# Training\n",
        "proteins_lens = Counter([len(x) for x in proteins])\n",
        "print(\"Zero-length proteins: {}\".format(proteins_lens[0]))\n",
        "print(\"Maximum protein length: {}\".format(max(proteins_lens)))\n",
        "print(\"Average protein length: {}\".format(np.mean([len(x) for x in proteins])))"
      ],
      "execution_count": 9,
      "outputs": [
        {
          "output_type": "stream",
          "text": [
            "Zero-length proteins: 0\n",
            "Maximum protein length: 1000\n",
            "Average protein length: 1000.0\n"
          ],
          "name": "stdout"
        }
      ]
    },
    {
      "cell_type": "markdown",
      "metadata": {
        "id": "x3K52xIJYnol",
        "colab_type": "text"
      },
      "source": [
        "## Create training, validation and testing sets\n",
        "In order to train a network we need to split the entire dataset into subsets, and some of them are used as never seen data. We must not use the whole dataset both for training and for testing, because we could overfit the network. We have to simulate to be in a real context, i.e. using the model to predict new available data in such a moment. To fit this rule we split data in two different datasets:\n",
        "* Training dataset: used to train the network, it represents already available data\n",
        "* Testing dataset: used when the model has been trained, it tests how much well the network works\n",
        "\n",
        "For this analysis, we have decided to use a fraction of splitting equals to 0.80, i.e. the training set will be equals to 80% of the original one, while testing set will contain the remaining 20% of data."
      ]
    },
    {
      "cell_type": "code",
      "metadata": {
        "id": "S5oCSRg3g7PP",
        "colab_type": "code",
        "outputId": "0e016f2c-cfa6-48ab-f956-abe1acda7b3d",
        "colab": {
          "base_uri": "https://localhost:8080/",
          "height": 52
        }
      },
      "source": [
        "x_train, y_train = proteins, labels\n",
        "\n",
        "print(\"Data Set Size\")\n",
        "print(\"Train set: \\t\\t{}\".format(x_train.shape))"
      ],
      "execution_count": 10,
      "outputs": [
        {
          "output_type": "stream",
          "text": [
            "Data Set Size\n",
            "Train set: \t\t(1856, 1000)\n"
          ],
          "name": "stdout"
        }
      ]
    },
    {
      "cell_type": "markdown",
      "metadata": {
        "id": "oYBzYjFIQsyF",
        "colab_type": "text"
      },
      "source": [
        "## Model's architecture"
      ]
    },
    {
      "cell_type": "code",
      "metadata": {
        "id": "4j5aKXFbY6NL",
        "colab_type": "code",
        "colab": {}
      },
      "source": [
        "  architecture=params['architecture']\n",
        "  seed=params['seed']\n",
        "  batch_size=params['batch_size']\n",
        "  n_splits=params['n_splits']\n",
        "  n_epochs=params['n_epochs']\n",
        "\n",
        "  callbacks=[eval(cb['callback_name']) for cb in params['callbacks']]  "
      ],
      "execution_count": 0,
      "outputs": []
    },
    {
      "cell_type": "markdown",
      "metadata": {
        "id": "x592QybRQvz_",
        "colab_type": "text"
      },
      "source": [
        "## Cross-validation"
      ]
    },
    {
      "cell_type": "code",
      "metadata": {
        "id": "bwMk5uGs0kU3",
        "colab_type": "code",
        "outputId": "380ef256-a663-4339-b1ed-80f2f001fc7b",
        "colab": {
          "base_uri": "https://localhost:8080/",
          "height": 1000
        }
      },
      "source": [
        "# Create a new directory for saving logs and the final model\n",
        "os.mkdir(results_dir)\n",
        "\n",
        "# Print params to a file\n",
        "# utl.print_params_to_json(params, results_dir+'/params.json')\n",
        "\n",
        "with open(results_dir + '/log_' + sub_dir + '.txt',\"w+\") as log_file:\n",
        "  model = utl.initialize_model(architecture)\n",
        "  \n",
        "  # Print model's architecture on file\n",
        "  model.summary(print_fn=lambda x: log_file.write(x + '\\n'))\n",
        "\n",
        "  # Train the new model with CV\n",
        "  print('Performing cross_validation...\\n')\n",
        "  utl.train_cv(x_train,\n",
        "               y_train,\n",
        "               architecture,\n",
        "               log_file,\n",
        "               n_splits,\n",
        "               seed,\n",
        "               n_epochs,\n",
        "               batch_size,\n",
        "               callbacks)"
      ],
      "execution_count": 12,
      "outputs": [
        {
          "output_type": "stream",
          "text": [
            "WARNING:tensorflow:From /usr/local/lib/python3.6/dist-packages/tensorflow_core/python/keras/initializers.py:119: calling RandomUniform.__init__ (from tensorflow.python.ops.init_ops) with dtype is deprecated and will be removed in a future version.\n",
            "Instructions for updating:\n",
            "Call initializer instance with the dtype argument instead of passing it to the constructor\n",
            "WARNING:tensorflow:From /usr/local/lib/python3.6/dist-packages/tensorflow_core/python/ops/resource_variable_ops.py:1630: calling BaseResourceVariable.__init__ (from tensorflow.python.ops.resource_variable_ops) with constraint is deprecated and will be removed in a future version.\n",
            "Instructions for updating:\n",
            "If using Keras pass *_constraint arguments to layers.\n",
            "WARNING:tensorflow:From /usr/local/lib/python3.6/dist-packages/tensorflow_core/python/ops/nn_impl.py:183: where (from tensorflow.python.ops.array_ops) is deprecated and will be removed in a future version.\n",
            "Instructions for updating:\n",
            "Use tf.where in 2.0, which has the same broadcast rule as np.where\n",
            "Performing cross_validation...\n",
            "\n",
            "\n",
            "*** CROSS VALIDATION PHASE ***\n",
            "\n",
            "Train on 1236 samples, validate on 620 samples\n",
            "Epoch 1/10\n",
            "1236/1236 [==============================] - 20s 16ms/sample - loss: 0.8695 - acc: 0.5340 - val_loss: 0.8590 - val_acc: 0.6129\n",
            "Epoch 2/10\n",
            "1236/1236 [==============================] - 16s 13ms/sample - loss: 0.8490 - acc: 0.5688 - val_loss: 0.8385 - val_acc: 0.5935\n",
            "Epoch 3/10\n",
            "1236/1236 [==============================] - 16s 13ms/sample - loss: 0.8576 - acc: 0.5874 - val_loss: 0.7905 - val_acc: 0.6048\n",
            "Epoch 4/10\n",
            "1236/1236 [==============================] - 16s 13ms/sample - loss: 0.7775 - acc: 0.6505 - val_loss: 0.7246 - val_acc: 0.7048\n",
            "Epoch 5/10\n",
            "1236/1236 [==============================] - 16s 13ms/sample - loss: 0.7357 - acc: 0.6845 - val_loss: 0.7786 - val_acc: 0.6210\n",
            "Epoch 6/10\n",
            "1236/1236 [==============================] - 16s 13ms/sample - loss: 0.7379 - acc: 0.6642 - val_loss: 0.6884 - val_acc: 0.7258\n",
            "Epoch 7/10\n",
            "1236/1236 [==============================] - 16s 13ms/sample - loss: 0.7056 - acc: 0.7079 - val_loss: 0.6842 - val_acc: 0.7081\n",
            "Epoch 8/10\n",
            "1236/1236 [==============================] - 16s 13ms/sample - loss: 0.7084 - acc: 0.6731 - val_loss: 0.6906 - val_acc: 0.6806\n",
            "Epoch 9/10\n",
            "1236/1236 [==============================] - 16s 13ms/sample - loss: 0.7057 - acc: 0.6650 - val_loss: 0.7265 - val_acc: 0.6613\n",
            "Epoch 10/10\n",
            "1236/1236 [==============================] - 16s 13ms/sample - loss: 0.7139 - acc: 0.6497 - val_loss: 0.6690 - val_acc: 0.7081\n",
            "620/620 [==============================] - 2s 2ms/sample - loss: 0.6690 - acc: 0.7081\n",
            "Fold 1 \n",
            "acc: 70.81%\n",
            "\n",
            "loss : [0.8694744823819996, 0.8490113901474715, 0.8576124864102953, 0.7774641247628962, 0.7356607466453873, 0.7378589534065099, 0.7055970553827131, 0.708418854039078, 0.7056509300728832, 0.7138983024748398]\n",
            "\n",
            "acc : [0.5339806, 0.56877023, 0.5873786, 0.65048546, 0.684466, 0.66423947, 0.7079288, 0.67313915, 0.66504854, 0.6496764]\n",
            "\n",
            "val_loss : [0.8590001167789583, 0.8384941070310531, 0.7904926703822228, 0.7246454088918625, 0.7786296721427671, 0.6884469216869723, 0.6842178708122623, 0.69055951141542, 0.7265092395967053, 0.6690113540618651]\n",
            "\n",
            "val_acc : [0.61290324, 0.59354836, 0.6048387, 0.7048387, 0.62096775, 0.7258065, 0.7080645, 0.68064517, 0.66129035, 0.7080645]\n",
            "\n",
            "lr : [1e-04, 1e-04, 1e-04, 1e-04, 1e-04, 1e-04, 1e-04, 1e-04, 1e-04, 1e-04]\n",
            "\n",
            "\n",
            "\n"
          ],
          "name": "stdout"
        },
        {
          "output_type": "display_data",
          "data": {
            "image/png": "[encoded data removed]",
            "text/plain": [
              "<Figure size 432x288 with 1 Axes>"
            ]
          },
          "metadata": {
            "tags": []
          }
        },
        {
          "output_type": "stream",
          "text": [
            "\n",
            "\n",
            "Train on 1238 samples, validate on 618 samples\n",
            "Epoch 1/10\n",
            "1238/1238 [==============================] - 17s 13ms/sample - loss: 0.8700 - acc: 0.5355 - val_loss: 0.8597 - val_acc: 0.5906\n",
            "Epoch 2/10\n",
            "1238/1238 [==============================] - 16s 13ms/sample - loss: 0.8498 - acc: 0.6002 - val_loss: 0.8399 - val_acc: 0.6133\n",
            "Epoch 3/10\n",
            "1238/1238 [==============================] - 16s 13ms/sample - loss: 0.8368 - acc: 0.6002 - val_loss: 0.8151 - val_acc: 0.5744\n",
            "Epoch 4/10\n",
            "1238/1238 [==============================] - 16s 13ms/sample - loss: 0.8030 - acc: 0.6333 - val_loss: 0.7809 - val_acc: 0.6084\n",
            "Epoch 5/10\n",
            "1238/1238 [==============================] - 16s 13ms/sample - loss: 0.7562 - acc: 0.6511 - val_loss: 0.7399 - val_acc: 0.6764\n",
            "Epoch 6/10\n",
            "1238/1238 [==============================] - 16s 13ms/sample - loss: 0.7365 - acc: 0.6680 - val_loss: 0.6881 - val_acc: 0.7330\n",
            "Epoch 7/10\n",
            "1238/1238 [==============================] - 16s 13ms/sample - loss: 0.7006 - acc: 0.6963 - val_loss: 0.6828 - val_acc: 0.7006\n",
            "Epoch 8/10\n",
            "1238/1238 [==============================] - 16s 13ms/sample - loss: 0.6995 - acc: 0.6898 - val_loss: 0.6461 - val_acc: 0.7492\n",
            "Epoch 9/10\n",
            "1238/1238 [==============================] - 16s 13ms/sample - loss: 0.6776 - acc: 0.6914 - val_loss: 0.7069 - val_acc: 0.6149\n",
            "Epoch 10/10\n",
            "1238/1238 [==============================] - 16s 13ms/sample - loss: 0.6886 - acc: 0.6389 - val_loss: 0.7052 - val_acc: 0.6489\n",
            "618/618 [==============================] - 1s 2ms/sample - loss: 0.7052 - acc: 0.6489\n",
            "Fold 2 \n",
            "acc: 64.89%\n",
            "\n",
            "loss : [0.8699942549904252, 0.8498061402356297, 0.8368182548220978, 0.8029867883452692, 0.7562188449314222, 0.7364959529990719, 0.7006297777850716, 0.6995490903037815, 0.6775587021052741, 0.6885840835979566]\n",
            "\n",
            "acc : [0.5355412, 0.60016155, 0.60016155, 0.6332795, 0.6510501, 0.6680129, 0.69628435, 0.6898223, 0.6914378, 0.6389338]\n",
            "\n",
            "val_loss : [0.859725651038889, 0.8399173661728893, 0.8150948259051178, 0.7809480434482537, 0.7399338179035866, 0.6880675959355623, 0.6827794110890731, 0.6460699020465986, 0.706894964269064, 0.7052343084588406]\n",
            "\n",
            "val_acc : [0.5906149, 0.6132686, 0.5744337, 0.60841423, 0.6763754, 0.7330097, 0.70064723, 0.7491909, 0.61488676, 0.6488673]\n",
            "\n",
            "lr : [1e-04, 1e-04, 1e-04, 1e-04, 1e-04, 1e-04, 1e-04, 1e-04, 1e-04, 1e-04]\n",
            "\n",
            "\n",
            "\n"
          ],
          "name": "stdout"
        },
        {
          "output_type": "display_data",
          "data": {
            "image/png": "[encoded data removed]",
            "text/plain": [
              "<Figure size 432x288 with 1 Axes>"
            ]
          },
          "metadata": {
            "tags": []
          }
        },
        {
          "output_type": "stream",
          "text": [
            "\n",
            "\n",
            "Train on 1238 samples, validate on 618 samples\n",
            "Epoch 1/10\n",
            "1238/1238 [==============================] - 16s 13ms/sample - loss: 0.8707 - acc: 0.5008 - val_loss: 0.8600 - val_acc: 0.5939\n",
            "Epoch 2/10\n",
            "1238/1238 [==============================] - 16s 13ms/sample - loss: 0.8503 - acc: 0.6058 - val_loss: 0.8392 - val_acc: 0.6570\n",
            "Epoch 3/10\n",
            "1238/1238 [==============================] - 16s 13ms/sample - loss: 0.8246 - acc: 0.6042 - val_loss: 0.8394 - val_acc: 0.5210\n",
            "Epoch 4/10\n",
            "1238/1238 [==============================] - 16s 13ms/sample - loss: 0.7813 - acc: 0.6422 - val_loss: 0.7565 - val_acc: 0.6650\n",
            "Epoch 5/10\n",
            "1238/1238 [==============================] - 16s 13ms/sample - loss: 0.7122 - acc: 0.7141 - val_loss: 0.7285 - val_acc: 0.6748\n",
            "Epoch 6/10\n",
            "1238/1238 [==============================] - 16s 13ms/sample - loss: 0.6917 - acc: 0.7294 - val_loss: 0.7212 - val_acc: 0.7201\n",
            "Epoch 7/10\n",
            "1238/1238 [==============================] - 16s 13ms/sample - loss: 0.6879 - acc: 0.7197 - val_loss: 0.6911 - val_acc: 0.7055\n",
            "Epoch 8/10\n",
            "1238/1238 [==============================] - 16s 13ms/sample - loss: 0.6566 - acc: 0.7342 - val_loss: 0.6676 - val_acc: 0.7152\n",
            "Epoch 9/10\n",
            "1238/1238 [==============================] - 16s 13ms/sample - loss: 0.6575 - acc: 0.7334 - val_loss: 0.6654 - val_acc: 0.7168\n",
            "Epoch 10/10\n",
            "1238/1238 [==============================] - 16s 13ms/sample - loss: 0.6387 - acc: 0.7439 - val_loss: 0.6342 - val_acc: 0.7395\n",
            "618/618 [==============================] - 1s 2ms/sample - loss: 0.6342 - acc: 0.7395\n",
            "Fold 3 \n",
            "acc: 73.95%\n",
            "\n",
            "loss : [0.8707397080392175, 0.8503480266677351, 0.8246332983785761, 0.7812634966485142, 0.7121975005924798, 0.69168296904094, 0.6879472701730559, 0.6566158781529243, 0.6574688791650948, 0.6386710786665392]\n",
            "\n",
            "acc : [0.50080776, 0.6058158, 0.6042003, 0.64216477, 0.71405494, 0.72940224, 0.7197092, 0.7342488, 0.73344105, 0.74394184]\n",
            "\n",
            "val_loss : [0.8600248868025623, 0.8392251961439559, 0.839358659623896, 0.7565236188061415, 0.728532861351581, 0.7211766721361278, 0.6911200086275736, 0.6676251175527048, 0.6654222098369043, 0.6341987412338503]\n",
            "\n",
            "val_acc : [0.59385115, 0.6569579, 0.5210356, 0.66504854, 0.6747573, 0.7200647, 0.7055016, 0.7152104, 0.71682847, 0.7394822]\n",
            "\n",
            "lr : [1e-04, 1e-04, 1e-04, 1e-04, 1e-04, 1e-04, 1e-04, 1e-04, 1e-04, 1e-04]\n",
            "\n",
            "\n",
            "\n"
          ],
          "name": "stdout"
        },
        {
          "output_type": "display_data",
          "data": {
            "image/png": "[encoded data removed]",
            "text/plain": [
              "<Figure size 432x288 with 1 Axes>"
            ]
          },
          "metadata": {
            "tags": []
          }
        },
        {
          "output_type": "stream",
          "text": [
            "\n",
            "\n",
            "\n",
            "\n",
            "Mean accuracy: 69.88% (+/- 3.76%)\n",
            "\n",
            "\n",
            "------------------------------------------\n"
          ],
          "name": "stdout"
        }
      ]
    }
  ]
}