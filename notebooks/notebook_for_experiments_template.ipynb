{
  "nbformat": 4,
  "nbformat_minor": 0,
  "metadata": {
    "colab": {
      "name": "Untitled3.ipynb",
      "provenance": [],
      "collapsed_sections": []
    },
    "kernelspec": {
      "name": "python3",
      "display_name": "Python 3"
    },
    "accelerator": "GPU"
  },
  "cells": [
    {
      "cell_type": "code",
      "metadata": {
        "id": "ICsPGs9Qiz2v",
        "colab_type": "code",
        "colab": {
          "base_uri": "https://localhost:8080/",
          "height": 104
        },
        "outputId": "609e803a-85cc-4d4a-baeb-9a7275973961"
      },
      "source": [
        "# ============================================================================ #\n",
        "#                          Checkout - GPUs Availability                        #\n",
        "# ============================================================================ #\n",
        "\n",
        "# memory footprint support libraries/code\n",
        "!ln -sf /opt/bin/nvidia-smi /usr/bin/nvidia-smi\n",
        "!pip install gputil\n",
        "!pip install psutil\n",
        "!pip install humanize\n",
        "\n",
        "import psutil\n",
        "import humanize\n",
        "import os\n",
        "import GPUtil as GPU\n",
        "\n",
        "GPUs = GPU.getGPUs()\n",
        "# XXX: only one GPU on Colab and isn’t guaranteed\n",
        "gpu = GPUs[0]\n",
        "def print_info_about_gpus():\n",
        " process = psutil.Process(os.getpid())\n",
        " print(\"Gen RAM Free: \" + humanize.naturalsize( psutil.virtual_memory().available ), \" | Proc size: \" + humanize.naturalsize( process.memory_info().rss))\n",
        " print(\"GPU RAM Free: {0:.0f}MB | Used: {1:.0f}MB | Util {2:3.0f}% | Total {3:.0f}MB\".format(gpu.memoryFree, gpu.memoryUsed, gpu.memoryUtil*100, gpu.memoryTotal))\n",
        "\n",
        "print_info_about_gpus()"
      ],
      "execution_count": 1,
      "outputs": [
        {
          "output_type": "stream",
          "text": [
            "Requirement already satisfied: gputil in /usr/local/lib/python3.6/dist-packages (1.4.0)\n",
            "Requirement already satisfied: psutil in /usr/local/lib/python3.6/dist-packages (5.4.8)\n",
            "Requirement already satisfied: humanize in /usr/local/lib/python3.6/dist-packages (0.5.1)\n",
            "Gen RAM Free: 12.7 GB  | Proc size: 157.0 MB\n",
            "GPU RAM Free: 16280MB | Used: 0MB | Util   0% | Total 16280MB\n"
          ],
          "name": "stdout"
        }
      ]
    },
    {
      "cell_type": "code",
      "metadata": {
        "id": "Rrp6Kj0x8Vc1",
        "colab_type": "code",
        "outputId": "1b35c356-72ec-4398-bf7a-22aea8ddbb60",
        "colab": {
          "base_uri": "https://localhost:8080/",
          "height": 34
        }
      },
      "source": [
        "# ============================================================================ #\n",
        "#                              Mount Drive                                     #\n",
        "# ============================================================================ #\n",
        "\n",
        "from google.colab import drive\n",
        "drive.mount('/content/drive')"
      ],
      "execution_count": 2,
      "outputs": [
        {
          "output_type": "stream",
          "text": [
            "Drive already mounted at /content/drive; to attempt to forcibly remount, call drive.mount(\"/content/drive\", force_remount=True).\n"
          ],
          "name": "stdout"
        }
      ]
    },
    {
      "cell_type": "code",
      "metadata": {
        "id": "Q-XWI5ljXt-q",
        "colab_type": "code",
        "colab": {}
      },
      "source": [
        "# ============================================================================ #\n",
        "#                              Unzip archive                                   #\n",
        "# ============================================================================ #\n",
        "\n",
        "# ============================================================================ #\n",
        "# Unzip archive\n",
        "!rm -fr /content/project-genes-fusions-classifier/  > /dev/null 2>&1\n",
        "!unzip -q -o /content/project-genes-fusions-classifier.zip -d /content/ > /dev/null 2>&1\n",
        "\n",
        "# ============================================================================ #\n",
        "# Setting environment using make tool and a Makefile file\n",
        "!cp -r /content/project-genes-fusions-classifier/* /content > /dev/null 2>&1"
      ],
      "execution_count": 0,
      "outputs": []
    },
    {
      "cell_type": "code",
      "metadata": {
        "id": "98HhJMO50eqY",
        "colab_type": "code",
        "colab": {
          "base_uri": "https://localhost:8080/",
          "height": 662
        },
        "outputId": "ce4434fa-00a8-4064-e87d-ea88cd94168e"
      },
      "source": [
        "# ============================================================================ #\n",
        "#                          INSTALLING SOME DEPENDENCIES                        #\n",
        "# ============================================================================ #\n",
        "\n",
        "!pip install tensorflow-gpu > /dev/null 2>&1\n",
        "%tensorflow_version 2.x"
      ],
      "execution_count": 4,
      "outputs": [
        {
          "output_type": "stream",
          "text": [
            "Requirement already satisfied: tensorflow-gpu in /usr/local/lib/python3.6/dist-packages (2.1.0)\n",
            "Requirement already satisfied: gast==0.2.2 in /usr/local/lib/python3.6/dist-packages (from tensorflow-gpu) (0.2.2)\n",
            "Requirement already satisfied: tensorflow-estimator<2.2.0,>=2.1.0rc0 in /usr/local/lib/python3.6/dist-packages (from tensorflow-gpu) (2.1.0)\n",
            "Requirement already satisfied: protobuf>=3.8.0 in /usr/local/lib/python3.6/dist-packages (from tensorflow-gpu) (3.10.0)\n",
            "Requirement already satisfied: termcolor>=1.1.0 in /usr/local/lib/python3.6/dist-packages (from tensorflow-gpu) (1.1.0)\n",
            "Requirement already satisfied: scipy==1.4.1; python_version >= \"3\" in /usr/local/lib/python3.6/dist-packages (from tensorflow-gpu) (1.4.1)\n",
            "Requirement already satisfied: numpy<2.0,>=1.16.0 in /usr/local/lib/python3.6/dist-packages (from tensorflow-gpu) (1.17.5)\n",
            "Requirement already satisfied: grpcio>=1.8.6 in /usr/local/lib/python3.6/dist-packages (from tensorflow-gpu) (1.15.0)\n",
            "Requirement already satisfied: keras-applications>=1.0.8 in /usr/local/lib/python3.6/dist-packages (from tensorflow-gpu) (1.0.8)\n",
            "Requirement already satisfied: wrapt>=1.11.1 in /usr/local/lib/python3.6/dist-packages (from tensorflow-gpu) (1.11.2)\n",
            "Requirement already satisfied: absl-py>=0.7.0 in /usr/local/lib/python3.6/dist-packages (from tensorflow-gpu) (0.9.0)\n",
            "Requirement already satisfied: wheel>=0.26; python_version >= \"3\" in /usr/local/lib/python3.6/dist-packages (from tensorflow-gpu) (0.33.6)\n",
            "Requirement already satisfied: six>=1.12.0 in /usr/local/lib/python3.6/dist-packages (from tensorflow-gpu) (1.12.0)\n",
            "Requirement already satisfied: google-pasta>=0.1.6 in /usr/local/lib/python3.6/dist-packages (from tensorflow-gpu) (0.1.8)\n",
            "Requirement already satisfied: keras-preprocessing>=1.1.0 in /usr/local/lib/python3.6/dist-packages (from tensorflow-gpu) (1.1.0)\n",
            "Requirement already satisfied: tensorboard<2.2.0,>=2.1.0 in /usr/local/lib/python3.6/dist-packages (from tensorflow-gpu) (2.1.0)\n",
            "Requirement already satisfied: astor>=0.6.0 in /usr/local/lib/python3.6/dist-packages (from tensorflow-gpu) (0.8.1)\n",
            "Requirement already satisfied: opt-einsum>=2.3.2 in /usr/local/lib/python3.6/dist-packages (from tensorflow-gpu) (3.1.0)\n",
            "Requirement already satisfied: setuptools in /usr/local/lib/python3.6/dist-packages (from protobuf>=3.8.0->tensorflow-gpu) (42.0.2)\n",
            "Requirement already satisfied: h5py in /usr/local/lib/python3.6/dist-packages (from keras-applications>=1.0.8->tensorflow-gpu) (2.8.0)\n",
            "Requirement already satisfied: google-auth<2,>=1.6.3 in /usr/local/lib/python3.6/dist-packages (from tensorboard<2.2.0,>=2.1.0->tensorflow-gpu) (1.10.1)\n",
            "Requirement already satisfied: requests<3,>=2.21.0 in /usr/local/lib/python3.6/dist-packages (from tensorboard<2.2.0,>=2.1.0->tensorflow-gpu) (2.21.0)\n",
            "Requirement already satisfied: werkzeug>=0.11.15 in /usr/local/lib/python3.6/dist-packages (from tensorboard<2.2.0,>=2.1.0->tensorflow-gpu) (0.16.0)\n",
            "Requirement already satisfied: google-auth-oauthlib<0.5,>=0.4.1 in /usr/local/lib/python3.6/dist-packages (from tensorboard<2.2.0,>=2.1.0->tensorflow-gpu) (0.4.1)\n",
            "Requirement already satisfied: markdown>=2.6.8 in /usr/local/lib/python3.6/dist-packages (from tensorboard<2.2.0,>=2.1.0->tensorflow-gpu) (3.1.1)\n",
            "Requirement already satisfied: rsa<4.1,>=3.1.4 in /usr/local/lib/python3.6/dist-packages (from google-auth<2,>=1.6.3->tensorboard<2.2.0,>=2.1.0->tensorflow-gpu) (4.0)\n",
            "Requirement already satisfied: pyasn1-modules>=0.2.1 in /usr/local/lib/python3.6/dist-packages (from google-auth<2,>=1.6.3->tensorboard<2.2.0,>=2.1.0->tensorflow-gpu) (0.2.7)\n",
            "Requirement already satisfied: cachetools<5.0,>=2.0.0 in /usr/local/lib/python3.6/dist-packages (from google-auth<2,>=1.6.3->tensorboard<2.2.0,>=2.1.0->tensorflow-gpu) (4.0.0)\n",
            "Requirement already satisfied: urllib3<1.25,>=1.21.1 in /usr/local/lib/python3.6/dist-packages (from requests<3,>=2.21.0->tensorboard<2.2.0,>=2.1.0->tensorflow-gpu) (1.24.3)\n",
            "Requirement already satisfied: idna<2.9,>=2.5 in /usr/local/lib/python3.6/dist-packages (from requests<3,>=2.21.0->tensorboard<2.2.0,>=2.1.0->tensorflow-gpu) (2.8)\n",
            "Requirement already satisfied: certifi>=2017.4.17 in /usr/local/lib/python3.6/dist-packages (from requests<3,>=2.21.0->tensorboard<2.2.0,>=2.1.0->tensorflow-gpu) (2019.11.28)\n",
            "Requirement already satisfied: chardet<3.1.0,>=3.0.2 in /usr/local/lib/python3.6/dist-packages (from requests<3,>=2.21.0->tensorboard<2.2.0,>=2.1.0->tensorflow-gpu) (3.0.4)\n",
            "Requirement already satisfied: requests-oauthlib>=0.7.0 in /usr/local/lib/python3.6/dist-packages (from google-auth-oauthlib<0.5,>=0.4.1->tensorboard<2.2.0,>=2.1.0->tensorflow-gpu) (1.3.0)\n",
            "Requirement already satisfied: pyasn1>=0.1.3 in /usr/local/lib/python3.6/dist-packages (from rsa<4.1,>=3.1.4->google-auth<2,>=1.6.3->tensorboard<2.2.0,>=2.1.0->tensorflow-gpu) (0.4.8)\n",
            "Requirement already satisfied: oauthlib>=3.0.0 in /usr/local/lib/python3.6/dist-packages (from requests-oauthlib>=0.7.0->google-auth-oauthlib<0.5,>=0.4.1->tensorboard<2.2.0,>=2.1.0->tensorflow-gpu) (3.1.0)\n",
            "TensorFlow 2.x selected.\n"
          ],
          "name": "stdout"
        }
      ]
    },
    {
      "cell_type": "code",
      "metadata": {
        "id": "mmfSkB0R_CIo",
        "colab_type": "code",
        "outputId": "4f287a91-b548-465e-d1c3-7804d5840f35",
        "colab": {
          "base_uri": "https://localhost:8080/",
          "height": 34
        }
      },
      "source": [
        "# Run genes fusions classifier with either '-h' or '--help'\n",
        "# flags in order to show tool's menu for let user\n",
        "# knowing how to employ it.\n",
        "\n",
        "!make -f Makefile run_help_classifier_tool"
      ],
      "execution_count": 5,
      "outputs": [
        {
          "output_type": "stream",
          "text": [
            "Makefile:27: *** recipe commences before first target.  Stop.\n"
          ],
          "name": "stdout"
        }
      ]
    },
    {
      "cell_type": "code",
      "metadata": {
        "colab_type": "code",
        "id": "OP0kigsMM1Cb",
        "colab": {}
      },
      "source": [
        "# A run example\n",
        "\n",
        "# !python3 main.py \\\n",
        "#  --validation \\\n",
        "  #--sequence_type protein \\\n",
        "  # --batch_size 32 \\\n",
        "  # --num_epochs 50 \\\n",
        "  # --lr 1e-3 \\\n",
        "  # --network_parameters /content/models/ModelEmbeddingBidirect.json \\\n",
        "  # --load_network ModelEmbeddingBidirect \\\n",
        "  # --path_source_data \"/content/drive/My Drive/bioinformatics/data-bioinformatics/bins_translated\""
      ],
      "execution_count": 0,
      "outputs": []
    },
    {
      "cell_type": "code",
      "metadata": {
        "id": "mb3XDTdlgkmN",
        "colab_type": "code",
        "colab": {
          "base_uri": "https://localhost:8080/",
          "height": 1000
        },
        "outputId": "3cda68c7-c91c-4df6-e508-1d810807786b"
      },
      "source": [
        "# A run example\n",
        "!make -f Makefile_MANAGEMENT clear_result_dirs\n",
        "!make -f Makefile_EXPERIMENTS run_experiment_on_colab"
      ],
      "execution_count": 0,
      "outputs": [
        {
          "output_type": "stream",
          "text": [
            "clear\n",
            "\u001b[H\u001b[2Jrm -fr bioinfo_project \n",
            "clear\n",
            "\u001b[H\u001b[2Jln -sfn main.py genes_fusions_classifier\n",
            "python3  genes_fusions_classifier --experimental_mode --network_parameters ./models/experimental_simple_models/parameters_dna_seq.json --load_network ExperimentalModels --sequence_type dna --path_source_data \"/content/drive/My Drive/bioinformatics/data-bioinformatics/bins_translated\"\n",
            "Using TensorFlow backend.\n",
            "----> Set up analysis environment.\n",
            " [*] Creating environment for saving current analysis results...\n",
            "2020-01-21 10:07:22,213:utils.setup_analysis_environment_util:logger initialization done!\n",
            "2020-01-21 10:07:22,213:utils.setup_analysis_environment_util:Namespace(batch_size=10, create_spredsheet_report=False, experimental_mode=True, load_network='ExperimentalModels', lr=0.001, network_parameters='./models/experimental_simple_models/parameters_dna_seq.json', num_epochs=50, onehot_flag=False, path_source_data='/content/drive/My Drive/bioinformatics/data-bioinformatics/bins_translated', pretrained_model=None, sequence_type='dna', steps=None, subdir='20200121_100722', test=False, train=False, validation=False)\n",
            "Namespace(batch_size=10, create_spredsheet_report=False, experimental_mode=True, load_network='ExperimentalModels', lr=0.001, network_parameters='./models/experimental_simple_models/parameters_dna_seq.json', num_epochs=50, onehot_flag=False, path_source_data='/content/drive/My Drive/bioinformatics/data-bioinformatics/bins_translated', pretrained_model=None, sequence_type='dna', steps=None, subdir='20200121_100722', test=False, train=False, validation=False)\n",
            "2020-01-21 10:07:22,213:utils.setup_analysis_environment_util:\n",
            "{\n",
            "    \"maxlen\": 14000,\n",
            "    \"epochs\": 30,\n",
            "    \"batch_size\": 32,\n",
            "    \"pretrained_model\": null\n",
            "}\n",
            "{'columns_names': ['Sequences',\n",
            "                   'Count',\n",
            "                   'Unnamed: 0',\n",
            "                   'Label',\n",
            "                   'Translated_sequences',\n",
            "                   'Protein_length'],\n",
            " 'path': '/content/drive/My '\n",
            "         'Drive/bioinformatics/data-bioinformatics/bins_translated',\n",
            " 'sequence_type': 'dna',\n",
            " 'test_bins': [5],\n",
            " 'train_bins': [1, 2, 3],\n",
            " 'val_bins': [4]}\n",
            "{'maxlen': 14000, 'onehot_flag': False, 'padding': 'post'}\n",
            "2020-01-21 10:07:22,214:utils.setup_analysis_environment_util:----> Dataset Load.\n",
            "2020-01-21 10:07:22,214:utils.setup_analysis_environment_util: [*] Loading Training Bins...\n",
            " > Adding bin: /content/drive/My Drive/bioinformatics/data-bioinformatics/bins_translated/bin_1_translated.csv... Done.\n",
            "2020-01-21 10:07:22,247:utils.setup_analysis_environment_util: > Added bin: /content/drive/My Drive/bioinformatics/data-bioinformatics/bins_translated/bin_1_translated.csv, Done.\n",
            " > Adding bin: /content/drive/My Drive/bioinformatics/data-bioinformatics/bins_translated/bin_2_translated.csv... Done.\n",
            "2020-01-21 10:07:22,268:utils.setup_analysis_environment_util: > Added bin: /content/drive/My Drive/bioinformatics/data-bioinformatics/bins_translated/bin_2_translated.csv, Done.\n",
            " > Adding bin: /content/drive/My Drive/bioinformatics/data-bioinformatics/bins_translated/bin_3_translated.csv... Done.\n",
            "2020-01-21 10:07:22,293:utils.setup_analysis_environment_util: > Added bin: /content/drive/My Drive/bioinformatics/data-bioinformatics/bins_translated/bin_3_translated.csv, Done.\n",
            "2020-01-21 10:07:22,296:utils.setup_analysis_environment_util: [*] Loading Validation Bins...\n",
            " > Adding bin: /content/drive/My Drive/bioinformatics/data-bioinformatics/bins_translated/bin_4_translated.csv... Done.\n",
            "2020-01-21 10:07:22,323:utils.setup_analysis_environment_util: > Added bin: /content/drive/My Drive/bioinformatics/data-bioinformatics/bins_translated/bin_4_translated.csv, Done.\n",
            "2020-01-21 10:07:22,325:utils.setup_analysis_environment_util: [*] Loading Test Bins...\n",
            " > Adding bin: /content/drive/My Drive/bioinformatics/data-bioinformatics/bins_translated/bin_5_translated.csv... Done.\n",
            "2020-01-21 10:07:22,350:utils.setup_analysis_environment_util: > Added bin: /content/drive/My Drive/bioinformatics/data-bioinformatics/bins_translated/bin_5_translated.csv, Done.\n",
            "2020-01-21 10:07:22,351:utils.setup_analysis_environment_util: [*] Dataset Load: Done.\n",
            "2020-01-21 10:07:22,351:utils.setup_analysis_environment_util:----> Preprocess Data.\n",
            "2020-01-21 10:07:22,351:utils.setup_analysis_environment_util: [*] Preprocessing data...\n",
            "2020-01-21 10:07:25,504:utils.setup_analysis_environment_util: [*] Preprocess Data: Done.\n",
            "2020-01-21 10:07:25,504:utils.setup_analysis_environment_util: [*] Performing Experimental Training...\n",
            "2020-01-21 10:07:25.684025: W tensorflow/core/common_runtime/gpu/gpu_bfc_allocator.cc:39] Overriding allow_growth setting because the TF_FORCE_GPU_ALLOW_GROWTH environment variable is set. Original config value was 0.\n",
            "Model: \"sequential\"\n",
            "_________________________________________________________________\n",
            "Layer (type)                 Output Shape              Param #   \n",
            "=================================================================\n",
            "embedding (Embedding)        (None, None, 16)          80        \n",
            "_________________________________________________________________\n",
            "lstm (LSTM)                  (None, None, 32)          6272      \n",
            "_________________________________________________________________\n",
            "lstm_1 (LSTM)                (None, 16)                3136      \n",
            "_________________________________________________________________\n",
            "dense (Dense)                (None, 72)                1224      \n",
            "_________________________________________________________________\n",
            "dense_1 (Dense)              (None, 1)                 73        \n",
            "=================================================================\n",
            "Total params: 10,785\n",
            "Trainable params: 10,785\n",
            "Non-trainable params: 0\n",
            "_________________________________________________________________\n",
            "None\n",
            "Train on 1385 samples\n",
            "Epoch 1/5\n",
            " 192/1385 [===>..........................] - ETA: 18:40 - loss: 0.6950 - accuracy: 0.4688 - binary_crossentropy: 0.6950"
          ],
          "name": "stdout"
        }
      ]
    },
    {
      "cell_type": "code",
      "metadata": {
        "id": "BbEdFZGzCHtB",
        "colab_type": "code",
        "colab": {}
      },
      "source": [
        "# from IPython import embed; embed()"
      ],
      "execution_count": 0,
      "outputs": []
    },
    {
      "cell_type": "markdown",
      "metadata": {
        "id": "KJ5m6jkVZb-L",
        "colab_type": "text"
      },
      "source": [
        "\n",
        "### Toward Data Science(Medium) articles, blogs:\n",
        "- https://towardsdatascience.com/using-git-with-colab-via-ssh-175e8f3751ec\n",
        "\n",
        "### Tensorflow Tutorials:\n",
        " - https://www.tensorflow.org/guide/keras/train_and_evaluate\n",
        " - https://www.tensorflow.org/guide/keras/train_and_evaluate\n",
        " - https://www.tensorflow.org/tensorboard/tensorboard_in_notebooks"
      ]
    }
  ]
}