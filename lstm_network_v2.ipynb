{
  "nbformat": 4,
  "nbformat_minor": 0,
  "metadata": {
    "colab": {
      "name": "lstm_network_v2.ipynb",
      "provenance": [],
      "collapsed_sections": []
    },
    "kernelspec": {
      "name": "python3",
      "display_name": "Python 3"
    },
    "accelerator": "GPU"
  },
  "cells": [
    {
      "cell_type": "markdown",
      "metadata": {
        "id": "xkW9lYNAy93L",
        "colab_type": "text"
      },
      "source": [
        "# LSTM Networks for predicting cancer by looking at fused genes"
      ]
    },
    {
      "cell_type": "code",
      "metadata": {
        "id": "0BDqnTRK24pP",
        "colab_type": "code",
        "colab": {}
      },
      "source": [
        "# This code has been written by Stefano Brilli, s249914@studenti.polito.it\n",
        "# Last update on Oct 11th\n",
        "# Please note that this code can be used just for running the training phase.\n",
        "# In the future here will be possible testing the model\n",
        "\n",
        "%tensorflow_version 1.x\n",
        "import tensorflow as tf\n",
        "import datetime, os\n",
        "from sklearn.metrics import confusion_matrix, classification_report, roc_curve, roc_auc_score, auc\n",
        "import string\n",
        "import utils as utl\n",
        "import pandas as pd\n",
        "import matplotlib.pyplot as plt\n",
        "from collections import Counter\n",
        "import numpy as np\n",
        "%matplotlib inline\n",
        "\n",
        "plt.style.use('dark_background')"
      ],
      "execution_count": 0,
      "outputs": []
    },
    {
      "cell_type": "code",
      "metadata": {
        "id": "dfADLwg_7Qa9",
        "colab_type": "code",
        "outputId": "c6b504d0-44ee-4d0c-9bd7-368dcbe385ce",
        "colab": {
          "base_uri": "https://localhost:8080/",
          "height": 34
        }
      },
      "source": [
        "from google.colab import drive\n",
        "drive.mount('/content/drive')"
      ],
      "execution_count": 2,
      "outputs": [
        {
          "output_type": "stream",
          "text": [
            "Drive already mounted at /content/drive; to attempt to forcibly remount, call drive.mount(\"/content/drive\", force_remount=True).\n"
          ],
          "name": "stdout"
        }
      ]
    },
    {
      "cell_type": "markdown",
      "metadata": {
        "id": "ILHVCd5Dy5a2",
        "colab_type": "text"
      },
      "source": [
        "## Parameters definition"
      ]
    },
    {
      "cell_type": "code",
      "metadata": {
        "id": "rl7BOuJ4yR2F",
        "colab_type": "code",
        "colab": {}
      },
      "source": [
        "# Paths\n",
        "base_dir=\"./drive/My Drive/Colab Notebooks/Bioinformatics/Project/\"\n",
        "sub_dir = datetime.datetime.strftime(datetime.datetime.now(), '%Y%m%d-%H%M%S')\n",
        "model_dir = base_dir + sub_dir\n",
        "\n",
        "training_set_path = base_dir + 'datasets/bio_translated_training.csv'\n",
        "testing_set_path = base_dir + 'datasets/bio_translated_testing.csv'\n",
        "parameters_path  = base_dir + 'datasets/parameters.json'\n",
        "\n",
        "# Load parameters from JSON file to Python dictionary\n",
        "params=utl.load_parameters(parameters_path)"
      ],
      "execution_count": 0,
      "outputs": []
    },
    {
      "cell_type": "markdown",
      "metadata": {
        "id": "5Gsx9jhxsR_C",
        "colab_type": "text"
      },
      "source": [
        "## Data preprocessing"
      ]
    },
    {
      "cell_type": "code",
      "metadata": {
        "id": "YkZEag2yfzKt",
        "colab_type": "code",
        "colab": {}
      },
      "source": [
        "# Training set: first four proteins bins\n",
        "proteins_train, labels_train, vocab_to_int_train, int_to_vocab_train = utl.read_data(training_set_path)\n",
        "proteins_test, labels_test, vocab_to_int_test, int_to_vocab_test = utl.read_data(testing_set_path)\n",
        "\n",
        "# if len(vocab_to_int_train) >= len(vocab_to_int_test):\n",
        "#   vocab_to_int = vocab_to_int_train\n",
        "#   int_to_vocab = int_to_vocab_train\n",
        "# else:\n",
        "#   vocab_to_int = vocab_to_int_test\n",
        "#   int_to_vocab = int_to_vocab_test\n",
        "\n",
        "len_indexes = [len(vocab_to_int_train), len(vocab_to_int_test)]\n",
        "max_len_index = len_indexes.index(max(len_indexes))\n",
        "\n",
        "if max_len_index == 0:\n",
        "  vocab_to_int = vocab_to_int_train\n",
        "  int_to_vocab = int_to_vocab_train\n",
        "else:\n",
        "  vocab_to_int = vocab_to_int_test\n",
        "  int_to_vocab = int_to_vocab_test"
      ],
      "execution_count": 0,
      "outputs": []
    },
    {
      "cell_type": "code",
      "metadata": {
        "id": "BugsL8_EtfVb",
        "colab_type": "code",
        "outputId": "0b5742c3-5431-4c34-f519-04b095a54c15",
        "colab": {
          "base_uri": "https://localhost:8080/",
          "height": 421
        }
      },
      "source": [
        "# Training set's features distribution\n",
        "train_len = [len(x) for x in proteins_train]\n",
        "pd.Series(train_len).hist()\n",
        "plt.show()\n",
        "pd.Series(train_len).describe()"
      ],
      "execution_count": 5,
      "outputs": [
        {
          "output_type": "display_data",
          "data": {
            "image/png": "[encoded data removed]",
            "text/plain": [
              "<Figure size 432x288 with 1 Axes>"
            ]
          },
          "metadata": {
            "tags": []
          }
        },
        {
          "output_type": "execute_result",
          "data": {
            "text/plain": [
              "count    1856.000000\n",
              "mean     1244.736530\n",
              "std       850.015475\n",
              "min        60.000000\n",
              "25%       564.000000\n",
              "50%      1030.500000\n",
              "75%      1686.250000\n",
              "max      4981.000000\n",
              "dtype: float64"
            ]
          },
          "metadata": {
            "tags": []
          },
          "execution_count": 5
        }
      ]
    },
    {
      "cell_type": "code",
      "metadata": {
        "id": "rcqf6jZ3tm3i",
        "colab_type": "code",
        "outputId": "a2d20687-7ffc-4807-b177-8967917569ef",
        "colab": {
          "base_uri": "https://localhost:8080/",
          "height": 421
        }
      },
      "source": [
        "# Testing set's features distribution\n",
        "test_len = [len(x) for x in proteins_test]\n",
        "pd.Series(test_len).hist()\n",
        "plt.show()\n",
        "pd.Series(test_len).describe()"
      ],
      "execution_count": 6,
      "outputs": [
        {
          "output_type": "display_data",
          "data": {
            "image/png": "[encoded data removed]",
            "text/plain": [
              "<Figure size 432x288 with 1 Axes>"
            ]
          },
          "metadata": {
            "tags": []
          }
        },
        {
          "output_type": "execute_result",
          "data": {
            "text/plain": [
              "count     464.000000\n",
              "mean     1291.543103\n",
              "std       974.182578\n",
              "min        18.000000\n",
              "25%       535.250000\n",
              "50%       986.000000\n",
              "75%      1803.000000\n",
              "max      4896.000000\n",
              "dtype: float64"
            ]
          },
          "metadata": {
            "tags": []
          },
          "execution_count": 6
        }
      ]
    },
    {
      "cell_type": "markdown",
      "metadata": {
        "id": "TIduwFPrvAew",
        "colab_type": "text"
      },
      "source": [
        "As we can see, both the training and the testing sets have a mean size on samples of 1200/1300. So it could be a good idea to pad sequences shorter than 1275 and truncate sequences longer than 1275."
      ]
    },
    {
      "cell_type": "code",
      "metadata": {
        "id": "hFI5pjWywMe8",
        "colab_type": "code",
        "colab": {}
      },
      "source": [
        "trunc_len=3000\n",
        "\n",
        "proteins_train = utl.pad_features(proteins_train, trunc_len)\n",
        "proteins_test = utl.pad_features(proteins_test, trunc_len)"
      ],
      "execution_count": 0,
      "outputs": []
    },
    {
      "cell_type": "code",
      "metadata": {
        "id": "kAzr3Pwuwjce",
        "colab_type": "code",
        "outputId": "c7feba35-943e-4010-b225-7740ea2c81d9",
        "colab": {
          "base_uri": "https://localhost:8080/",
          "height": 72
        }
      },
      "source": [
        "# Some statistics\n",
        "print(\"Vocabulary size: {}\".format(len(vocab_to_int)))\n",
        "print(vocab_to_int)"
      ],
      "execution_count": 8,
      "outputs": [
        {
          "output_type": "stream",
          "text": [
            "Vocabulary size: 21\n",
            "{'L': 1, 'S': 2, 'P': 3, 'G': 4, 'R': 5, 'A': 6, 'T': 7, 'Q': 8, 'V': 9, 'E': 10, 'K': 11, 'I': 12, 'F': 13, 'D': 14, 'N': 15, 'C': 16, 'H': 17, '-': 18, 'Y': 19, 'W': 20, 'M': 21}\n"
          ],
          "name": "stdout"
        }
      ]
    },
    {
      "cell_type": "code",
      "metadata": {
        "id": "woZ4O775wshZ",
        "colab_type": "code",
        "outputId": "f3649009-0cf1-4495-bdc5-1cf844406962",
        "colab": {
          "base_uri": "https://localhost:8080/",
          "height": 69
        }
      },
      "source": [
        "# Training\n",
        "proteins_lens = Counter([len(x) for x in proteins_train])\n",
        "print(\"Zero-length proteins: {}\".format(proteins_lens[0]))\n",
        "print(\"Maximum protein length: {}\".format(max(proteins_lens)))\n",
        "print(\"Average protein length: {}\".format(np.mean([len(x) for x in proteins_train])))"
      ],
      "execution_count": 9,
      "outputs": [
        {
          "output_type": "stream",
          "text": [
            "Zero-length proteins: 0\n",
            "Maximum protein length: 3000\n",
            "Average protein length: 3000.0\n"
          ],
          "name": "stdout"
        }
      ]
    },
    {
      "cell_type": "code",
      "metadata": {
        "id": "um2p2dkxw-Sj",
        "colab_type": "code",
        "outputId": "21709aef-bf09-4bc2-f880-ed35249cdfa2",
        "colab": {
          "base_uri": "https://localhost:8080/",
          "height": 69
        }
      },
      "source": [
        "# Testing\n",
        "proteins_lens = Counter([len(x) for x in proteins_test])\n",
        "print(\"Zero-length proteins: {}\".format(proteins_lens[0]))\n",
        "print(\"Maximum protein length: {}\".format(max(proteins_lens)))\n",
        "print(\"Average protein length: {}\".format(np.mean([len(x) for x in proteins_test])))"
      ],
      "execution_count": 10,
      "outputs": [
        {
          "output_type": "stream",
          "text": [
            "Zero-length proteins: 0\n",
            "Maximum protein length: 3000\n",
            "Average protein length: 3000.0\n"
          ],
          "name": "stdout"
        }
      ]
    },
    {
      "cell_type": "markdown",
      "metadata": {
        "id": "x3K52xIJYnol",
        "colab_type": "text"
      },
      "source": [
        "## Create training, validation and testing sets\n",
        "In order to train a network we need to split the entire dataset into subsets, and some of them are used as never seen data. We must not use the whole dataset both for training and for testing, because we could overfit the network. We have to simulate to be in a real context, i.e. using the model to predict new available data in such a moment. To fit this rule we split data in two different datasets:\n",
        "* Training dataset: used to train the network, it represents already available data\n",
        "* Testing dataset: used when the model has been trained, it tests how much well the network works\n",
        "\n",
        "For this analysis, we have decided to use a fraction of splitting equals to 0.80, i.e. the training set will be equals to 80% of the original one, while testing set will contain the remaining 20% of data."
      ]
    },
    {
      "cell_type": "code",
      "metadata": {
        "id": "S5oCSRg3g7PP",
        "colab_type": "code",
        "outputId": "d14a4d20-0b84-481a-de95-ad45d672dce1",
        "colab": {
          "base_uri": "https://localhost:8080/",
          "height": 52
        }
      },
      "source": [
        "X_train, y_train = proteins_train, labels_train\n",
        "\n",
        "print(\"Data Set Size\")\n",
        "print(\"Train set: \\t\\t{}\".format(X_train.shape))"
      ],
      "execution_count": 11,
      "outputs": [
        {
          "output_type": "stream",
          "text": [
            "Data Set Size\n",
            "Train set: \t\t(1856, 3000)\n"
          ],
          "name": "stdout"
        }
      ]
    },
    {
      "cell_type": "markdown",
      "metadata": {
        "id": "WVp5EMCg0uVK",
        "colab_type": "text"
      },
      "source": [
        "## Training operations"
      ]
    },
    {
      "cell_type": "code",
      "metadata": {
        "id": "dRiJ0SvFFjBI",
        "colab_type": "code",
        "colab": {}
      },
      "source": [
        "# Decide if using a pre-trained model\n",
        "use_pretrained=False\n",
        "pretrained_path=base_dir+'20191102-151628/model_20191102-151628.hdf5'\n",
        "starting_learning_rate=0.001"
      ],
      "execution_count": 0,
      "outputs": []
    },
    {
      "cell_type": "code",
      "metadata": {
        "id": "bwMk5uGs0kU3",
        "colab_type": "code",
        "outputId": "8115f081-af78-4066-c25e-9cb81df0fbf5",
        "colab": {
          "base_uri": "https://localhost:8080/",
          "height": 454
        }
      },
      "source": [
        "# Create a new directory for saving logs and the final model\n",
        "os.mkdir(model_dir)\n",
        "\n",
        "# Print params to a file\n",
        "utl.print_params_to_json(params, model_dir+'/params.json')\n",
        "\n",
        "with open(model_dir + '/log_' + sub_dir + '.txt',\"w+\") as log:\n",
        "  if use_pretrained:\n",
        "    utl.print_and_write(log, 'Performing fine-tuning on a pretrained model.\\n')\n",
        "    utl.print_and_write(log, 'Model dir: {}\\n'.format(pretrained_path))\n",
        "    utl.print_and_write(log, 'Starting learning rate: {}\\n'.format(starting_learning_rate))\n",
        "\n",
        "    # Load the pretrained model\n",
        "    model=tf.keras.models.load_model(pretrained_path, compile=False)\n",
        "    # model.summary(print_fn=lambda x: log.write(x + '\\n'))\n",
        "\n",
        "    global optimizer\n",
        "    if params['architecture']['optimizer'] == 'ADAM':\n",
        "      optimizer = tf.keras.optimizers.Adam(lr=starting_learning_rate, clipnorm=params['architecture']['clip_norm'])\n",
        "    elif params['architecture']['optimizer'] == 'RMSprop':\n",
        "      optimizer = tf.keras.optimizers.RMSprop(lr=starting_learning_rate, clipnorm=params['architecture']['clip_norm'])\n",
        "\n",
        "    # Compile the new model        \n",
        "    model.compile(loss=params['architecture']['loss'],\n",
        "                  optimizer=optimizer,\n",
        "                  metrics=params['architecture']['metrics'])\n",
        "  \n",
        "  else:\n",
        "    model = utl.initialize_model(params['architecture'])\n",
        "    \n",
        "  # Print model's architecture on file\n",
        "  model.summary(print_fn=lambda x: log.write(x + '\\n'))\n",
        "\n",
        "  # Fit the model on the entire dataset\n",
        "  utl.train(X_train, y_train, model, log, params['seed'], params['n_epochs'], \n",
        "        params['batch_size'], \n",
        "        [eval(cb['callback_name']) for cb in params['callbacks']])    \n",
        "\n",
        "  # Save the model\n",
        "  tf.keras.models.save_model(model, model_dir + '/model_' + sub_dir + '.hdf5')\n",
        "  utl.print_and_write(log, \"\\nModel saved into folder {}\\n\".format(model_dir + '/model_' + sub_dir))\n",
        "  utl.print_and_write(log, \"------------------------------------------\\n\")\n",
        "\n",
        "  print('Task done, bye.')"
      ],
      "execution_count": 0,
      "outputs": [
        {
          "output_type": "stream",
          "text": [
            "WARNING:tensorflow:From /usr/local/lib/python3.6/dist-packages/tensorflow_core/python/ops/resource_variable_ops.py:1630: calling BaseResourceVariable.__init__ (from tensorflow.python.ops.resource_variable_ops) with constraint is deprecated and will be removed in a future version.\n",
            "Instructions for updating:\n",
            "If using Keras pass *_constraint arguments to layers.\n",
            "WARNING:tensorflow:From /usr/local/lib/python3.6/dist-packages/tensorflow_core/python/ops/nn_impl.py:183: where (from tensorflow.python.ops.array_ops) is deprecated and will be removed in a future version.\n",
            "Instructions for updating:\n",
            "Use tf.where in 2.0, which has the same broadcast rule as np.where\n",
            "\n",
            "*** TRAINING PHASE ***\n",
            "\n",
            "Train on 1392 samples, validate on 464 samples\n",
            "Epoch 1/15\n",
            "1392/1392 [==============================] - 61s 44ms/sample - loss: 0.7380 - acc: 0.5359 - val_loss: 0.7316 - val_acc: 0.6056\n",
            "Epoch 2/15\n",
            "1392/1392 [==============================] - 59s 42ms/sample - loss: 0.7234 - acc: 0.5726 - val_loss: 0.7208 - val_acc: 0.5819\n",
            "Epoch 3/15\n",
            "1392/1392 [==============================] - 59s 42ms/sample - loss: 0.7114 - acc: 0.6049 - val_loss: 0.7136 - val_acc: 0.6228\n",
            "Epoch 4/15\n",
            "1392/1392 [==============================] - 59s 42ms/sample - loss: 0.7012 - acc: 0.6128 - val_loss: 0.7073 - val_acc: 0.6336\n",
            "Epoch 5/15\n",
            "1392/1392 [==============================] - 59s 42ms/sample - loss: 0.6877 - acc: 0.6336 - val_loss: 0.7050 - val_acc: 0.5754\n",
            "Epoch 6/15\n",
            "1392/1392 [==============================] - 59s 42ms/sample - loss: 0.6744 - acc: 0.6753 - val_loss: 0.7121 - val_acc: 0.5560\n",
            "Epoch 7/15\n",
            " 196/1392 [===>..........................] - ETA: 44s - loss: 0.6524 - acc: 0.7806"
          ],
          "name": "stdout"
        }
      ]
    },
    {
      "cell_type": "markdown",
      "metadata": {
        "id": "_7bvNtrj1gd2",
        "colab_type": "text"
      },
      "source": [
        "## Testing operations"
      ]
    },
    {
      "cell_type": "code",
      "metadata": {
        "id": "zuwpyvM51iFA",
        "colab_type": "code",
        "colab": {}
      },
      "source": [
        "X_test, y_test = proteins_test, labels_test\n",
        "\n",
        "print(\"Data Set Size\")\n",
        "print(\"Test set: \\t\\t{}\".format(X_test.shape))"
      ],
      "execution_count": 0,
      "outputs": []
    },
    {
      "cell_type": "code",
      "metadata": {
        "id": "SUhSJoO_3s20",
        "colab_type": "code",
        "colab": {}
      },
      "source": [
        "# Load the model\n",
        "model = tf.keras.models.load_model(model_dir + '/model_' + sub_dir + '.hdf5')"
      ],
      "execution_count": 0,
      "outputs": []
    },
    {
      "cell_type": "code",
      "metadata": {
        "id": "nPdvO-qT4HxJ",
        "colab_type": "code",
        "colab": {}
      },
      "source": [
        "# Test the model\n",
        "with open(model_dir + '/log_' + sub_dir + '.txt', 'a+') as log:\n",
        "  score = model.evaluate(X_test, y_test, verbose=1, batch_size=params['batch_size'])\n",
        "  log.write(\"\\n*** TESTING PHASE ***\\n\")\n",
        "  print (\"%s: %.2f%%\\n\" % (model.metrics_names[1], score[1]*100))\n",
        "  log.write(\"%s: %.2f%%\\n\" % (model.metrics_names[1], score[1]*100))"
      ],
      "execution_count": 0,
      "outputs": []
    },
    {
      "cell_type": "markdown",
      "metadata": {
        "id": "QmRvgIz1DtJM",
        "colab_type": "text"
      },
      "source": [
        "## Confusion matrix on the testing set"
      ]
    },
    {
      "cell_type": "code",
      "metadata": {
        "id": "tl7oOEi_CuWF",
        "colab_type": "code",
        "colab": {}
      },
      "source": [
        "pred_labels=model.predict_classes(X_test, batch_size=params['batch_size'])\n",
        "tn, fp, fn, tp = confusion_matrix(y_test, pred_labels).ravel()\n",
        "print(\"True negative: %d\" % tn)\n",
        "print(\"True positive: %d\" % tp)\n",
        "print(\"False negative: %d\" % fn)\n",
        "print(\"False positive: %d\" % fp)"
      ],
      "execution_count": 0,
      "outputs": []
    },
    {
      "cell_type": "code",
      "metadata": {
        "id": "Rse5y8ZOx6uG",
        "colab_type": "code",
        "colab": {}
      },
      "source": [
        "# ROC Curve\n",
        "y_predict = model.predict(X_test).ravel()\n",
        "fpr, tpr, thresholds = roc_curve(y_test, y_predict)\n",
        "auc = auc(fpr, tpr)\n",
        "\n",
        "print(\"AUC: %.2f\" % auc)"
      ],
      "execution_count": 0,
      "outputs": []
    },
    {
      "cell_type": "code",
      "metadata": {
        "id": "5-28pHEKx8lJ",
        "colab_type": "code",
        "colab": {}
      },
      "source": [
        "plt.figure(1)\n",
        "plt.plot([0, 1], [0, 1], 'w--')\n",
        "plt.plot(fpr, tpr, label='Un. LSTM proteins\\' model (area = {:.3f})'.format(auc))\n",
        "plt.xlabel('False positive rate')\n",
        "plt.ylabel('True positive rate')\n",
        "plt.title('ROC curve')\n",
        "plt.legend(loc='best')\n",
        "plt.show()"
      ],
      "execution_count": 0,
      "outputs": []
    },
    {
      "cell_type": "code",
      "metadata": {
        "id": "l4LVd7zB0Ohx",
        "colab_type": "code",
        "colab": {}
      },
      "source": [
        ""
      ],
      "execution_count": 0,
      "outputs": []
    }
  ]
}